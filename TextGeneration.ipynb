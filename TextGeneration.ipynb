{
  "nbformat": 4,
  "nbformat_minor": 0,
  "metadata": {
    "colab": {
      "name": "TextGeneration.ipynb",
      "provenance": []
    },
    "kernelspec": {
      "name": "python3",
      "display_name": "Python 3"
    },
    "language_info": {
      "name": "python"
    }
  },
  "cells": [
    {
      "cell_type": "code",
      "metadata": {
        "id": "mdj8wdOMMwQI"
      },
      "source": [
        "import tensorflow as tf\n",
        "import numpy as np\n",
        "import os"
      ],
      "execution_count": null,
      "outputs": []
    },
    {
      "cell_type": "code",
      "metadata": {
        "colab": {
          "base_uri": "https://localhost:8080/"
        },
        "id": "XJ9hW89PXfBO",
        "outputId": "dafe609a-4caf-4e5e-8a28-37dc955442d2"
      },
      "source": [
        "file = tf.keras.utils.get_file(\n",
        "     'shakespeare.txt',\n",
        "     'https://storage.googleapis.com/download.tensorflow.org/data/shakespeare.txt'\n",
        ")"
      ],
      "execution_count": null,
      "outputs": [
        {
          "output_type": "stream",
          "text": [
            "Downloading data from https://storage.googleapis.com/download.tensorflow.org/data/shakespeare.txt\n",
            "1122304/1115394 [==============================] - 0s 0us/step\n"
          ],
          "name": "stdout"
        }
      ]
    },
    {
      "cell_type": "code",
      "metadata": {
        "colab": {
          "base_uri": "https://localhost:8080/"
        },
        "id": "p6AZK1cmYLFB",
        "outputId": "775ccb60-e60b-4053-9592-cdda4603bd11"
      },
      "source": [
        "type(file)"
      ],
      "execution_count": null,
      "outputs": [
        {
          "output_type": "execute_result",
          "data": {
            "text/plain": [
              "str"
            ]
          },
          "metadata": {
            "tags": []
          },
          "execution_count": 3
        }
      ]
    },
    {
      "cell_type": "code",
      "metadata": {
        "colab": {
          "base_uri": "https://localhost:8080/",
          "height": 35
        },
        "id": "eqBuhAnEYXXl",
        "outputId": "df4460ba-14d2-4e6c-9a4e-a1ba7cc299f3"
      },
      "source": [
        "file"
      ],
      "execution_count": null,
      "outputs": [
        {
          "output_type": "execute_result",
          "data": {
            "application/vnd.google.colaboratory.intrinsic+json": {
              "type": "string"
            },
            "text/plain": [
              "'/root/.keras/datasets/shakespeare.txt'"
            ]
          },
          "metadata": {
            "tags": []
          },
          "execution_count": 4
        }
      ]
    },
    {
      "cell_type": "code",
      "metadata": {
        "id": "0kXd1FFoYYtT"
      },
      "source": [
        "text = open(file, 'rb').read().decode(encoding='utf-8')"
      ],
      "execution_count": null,
      "outputs": []
    },
    {
      "cell_type": "code",
      "metadata": {
        "colab": {
          "base_uri": "https://localhost:8080/"
        },
        "id": "iLRMt6A6YzRB",
        "outputId": "334ea90f-9862-47d9-ef63-b3a0b9367077"
      },
      "source": [
        "type(text)"
      ],
      "execution_count": null,
      "outputs": [
        {
          "output_type": "execute_result",
          "data": {
            "text/plain": [
              "str"
            ]
          },
          "metadata": {
            "tags": []
          },
          "execution_count": 6
        }
      ]
    },
    {
      "cell_type": "code",
      "metadata": {
        "colab": {
          "base_uri": "https://localhost:8080/"
        },
        "id": "b2vBpZUIY1VI",
        "outputId": "45045975-7be9-48a2-8895-fa48e139d170"
      },
      "source": [
        "print(text[:1000])"
      ],
      "execution_count": null,
      "outputs": [
        {
          "output_type": "stream",
          "text": [
            "First Citizen:\n",
            "Before we proceed any further, hear me speak.\n",
            "\n",
            "All:\n",
            "Speak, speak.\n",
            "\n",
            "First Citizen:\n",
            "You are all resolved rather to die than to famish?\n",
            "\n",
            "All:\n",
            "Resolved. resolved.\n",
            "\n",
            "First Citizen:\n",
            "First, you know Caius Marcius is chief enemy to the people.\n",
            "\n",
            "All:\n",
            "We know't, we know't.\n",
            "\n",
            "First Citizen:\n",
            "Let us kill him, and we'll have corn at our own price.\n",
            "Is't a verdict?\n",
            "\n",
            "All:\n",
            "No more talking on't; let it be done: away, away!\n",
            "\n",
            "Second Citizen:\n",
            "One word, good citizens.\n",
            "\n",
            "First Citizen:\n",
            "We are accounted poor citizens, the patricians good.\n",
            "What authority surfeits on would relieve us: if they\n",
            "would yield us but the superfluity, while it were\n",
            "wholesome, we might guess they relieved us humanely;\n",
            "but they think we are too dear: the leanness that\n",
            "afflicts us, the object of our misery, is as an\n",
            "inventory to particularise their abundance; our\n",
            "sufferance is a gain to them Let us revenge this with\n",
            "our pikes, ere we become rakes: for the gods know I\n",
            "speak this in hunger for bread, not in thirst for revenge.\n",
            "\n",
            "\n"
          ],
          "name": "stdout"
        }
      ]
    },
    {
      "cell_type": "code",
      "metadata": {
        "colab": {
          "base_uri": "https://localhost:8080/"
        },
        "id": "HpxPMOCoY86A",
        "outputId": "cc8ae323-cee4-461e-aec0-2a301b3092bc"
      },
      "source": [
        "len(text)"
      ],
      "execution_count": null,
      "outputs": [
        {
          "output_type": "execute_result",
          "data": {
            "text/plain": [
              "1115394"
            ]
          },
          "metadata": {
            "tags": []
          },
          "execution_count": 8
        }
      ]
    },
    {
      "cell_type": "code",
      "metadata": {
        "colab": {
          "base_uri": "https://localhost:8080/"
        },
        "id": "KSgHqAPeZIpD",
        "outputId": "1d2edce2-7c83-45cc-ccb3-215c3ea57005"
      },
      "source": [
        "len(set(text))"
      ],
      "execution_count": null,
      "outputs": [
        {
          "output_type": "execute_result",
          "data": {
            "text/plain": [
              "65"
            ]
          },
          "metadata": {
            "tags": []
          },
          "execution_count": 9
        }
      ]
    },
    {
      "cell_type": "code",
      "metadata": {
        "id": "_8zehBG9ZUwg"
      },
      "source": [
        "vocab = sorted(set(text))"
      ],
      "execution_count": null,
      "outputs": []
    },
    {
      "cell_type": "code",
      "metadata": {
        "colab": {
          "base_uri": "https://localhost:8080/"
        },
        "id": "HEKYWtJpZaTa",
        "outputId": "942c6893-db6d-40fe-c1f4-97443625fd99"
      },
      "source": [
        "vocab"
      ],
      "execution_count": null,
      "outputs": [
        {
          "output_type": "execute_result",
          "data": {
            "text/plain": [
              "['\\n',\n",
              " ' ',\n",
              " '!',\n",
              " '$',\n",
              " '&',\n",
              " \"'\",\n",
              " ',',\n",
              " '-',\n",
              " '.',\n",
              " '3',\n",
              " ':',\n",
              " ';',\n",
              " '?',\n",
              " 'A',\n",
              " 'B',\n",
              " 'C',\n",
              " 'D',\n",
              " 'E',\n",
              " 'F',\n",
              " 'G',\n",
              " 'H',\n",
              " 'I',\n",
              " 'J',\n",
              " 'K',\n",
              " 'L',\n",
              " 'M',\n",
              " 'N',\n",
              " 'O',\n",
              " 'P',\n",
              " 'Q',\n",
              " 'R',\n",
              " 'S',\n",
              " 'T',\n",
              " 'U',\n",
              " 'V',\n",
              " 'W',\n",
              " 'X',\n",
              " 'Y',\n",
              " 'Z',\n",
              " 'a',\n",
              " 'b',\n",
              " 'c',\n",
              " 'd',\n",
              " 'e',\n",
              " 'f',\n",
              " 'g',\n",
              " 'h',\n",
              " 'i',\n",
              " 'j',\n",
              " 'k',\n",
              " 'l',\n",
              " 'm',\n",
              " 'n',\n",
              " 'o',\n",
              " 'p',\n",
              " 'q',\n",
              " 'r',\n",
              " 's',\n",
              " 't',\n",
              " 'u',\n",
              " 'v',\n",
              " 'w',\n",
              " 'x',\n",
              " 'y',\n",
              " 'z']"
            ]
          },
          "metadata": {
            "tags": []
          },
          "execution_count": 11
        }
      ]
    },
    {
      "cell_type": "code",
      "metadata": {
        "id": "yX0eq2rrZe_s"
      },
      "source": [
        "c2i = {a:i for i,a in enumerate(vocab)}"
      ],
      "execution_count": null,
      "outputs": []
    },
    {
      "cell_type": "code",
      "metadata": {
        "colab": {
          "base_uri": "https://localhost:8080/"
        },
        "id": "m_Raa52CcXKc",
        "outputId": "d3597fbd-b6af-4017-a4e9-8232719c6ac6"
      },
      "source": [
        "c2i"
      ],
      "execution_count": null,
      "outputs": [
        {
          "output_type": "execute_result",
          "data": {
            "text/plain": [
              "{'\\n': 0,\n",
              " ' ': 1,\n",
              " '!': 2,\n",
              " '$': 3,\n",
              " '&': 4,\n",
              " \"'\": 5,\n",
              " ',': 6,\n",
              " '-': 7,\n",
              " '.': 8,\n",
              " '3': 9,\n",
              " ':': 10,\n",
              " ';': 11,\n",
              " '?': 12,\n",
              " 'A': 13,\n",
              " 'B': 14,\n",
              " 'C': 15,\n",
              " 'D': 16,\n",
              " 'E': 17,\n",
              " 'F': 18,\n",
              " 'G': 19,\n",
              " 'H': 20,\n",
              " 'I': 21,\n",
              " 'J': 22,\n",
              " 'K': 23,\n",
              " 'L': 24,\n",
              " 'M': 25,\n",
              " 'N': 26,\n",
              " 'O': 27,\n",
              " 'P': 28,\n",
              " 'Q': 29,\n",
              " 'R': 30,\n",
              " 'S': 31,\n",
              " 'T': 32,\n",
              " 'U': 33,\n",
              " 'V': 34,\n",
              " 'W': 35,\n",
              " 'X': 36,\n",
              " 'Y': 37,\n",
              " 'Z': 38,\n",
              " 'a': 39,\n",
              " 'b': 40,\n",
              " 'c': 41,\n",
              " 'd': 42,\n",
              " 'e': 43,\n",
              " 'f': 44,\n",
              " 'g': 45,\n",
              " 'h': 46,\n",
              " 'i': 47,\n",
              " 'j': 48,\n",
              " 'k': 49,\n",
              " 'l': 50,\n",
              " 'm': 51,\n",
              " 'n': 52,\n",
              " 'o': 53,\n",
              " 'p': 54,\n",
              " 'q': 55,\n",
              " 'r': 56,\n",
              " 's': 57,\n",
              " 't': 58,\n",
              " 'u': 59,\n",
              " 'v': 60,\n",
              " 'w': 61,\n",
              " 'x': 62,\n",
              " 'y': 63,\n",
              " 'z': 64}"
            ]
          },
          "metadata": {
            "tags": []
          },
          "execution_count": 13
        }
      ]
    },
    {
      "cell_type": "code",
      "metadata": {
        "id": "u6TkZoUzcYPO"
      },
      "source": [
        "i2c = np.array(vocab)"
      ],
      "execution_count": null,
      "outputs": []
    },
    {
      "cell_type": "code",
      "metadata": {
        "colab": {
          "base_uri": "https://localhost:8080/",
          "height": 35
        },
        "id": "YfaFmVK0csiQ",
        "outputId": "42a0e805-09a8-4c79-c689-659974438b2a"
      },
      "source": [
        "i2c[62]"
      ],
      "execution_count": null,
      "outputs": [
        {
          "output_type": "execute_result",
          "data": {
            "application/vnd.google.colaboratory.intrinsic+json": {
              "type": "string"
            },
            "text/plain": [
              "'x'"
            ]
          },
          "metadata": {
            "tags": []
          },
          "execution_count": 15
        }
      ]
    },
    {
      "cell_type": "code",
      "metadata": {
        "id": "G6JgH4secy3b"
      },
      "source": [
        "#convert text as sequence of integers"
      ],
      "execution_count": null,
      "outputs": []
    },
    {
      "cell_type": "code",
      "metadata": {
        "id": "I95ldMtzc8Cw"
      },
      "source": [
        "text_as_seq_of_ints = np.array([c2i[a] for a in text])"
      ],
      "execution_count": null,
      "outputs": []
    },
    {
      "cell_type": "code",
      "metadata": {
        "colab": {
          "base_uri": "https://localhost:8080/"
        },
        "id": "u3ZMU0GqdcLP",
        "outputId": "fa1c42c1-f808-4821-e228-02f9ff4ed29c"
      },
      "source": [
        "text_as_seq_of_ints[:10]"
      ],
      "execution_count": null,
      "outputs": [
        {
          "output_type": "execute_result",
          "data": {
            "text/plain": [
              "array([18, 47, 56, 57, 58,  1, 15, 47, 58, 47])"
            ]
          },
          "metadata": {
            "tags": []
          },
          "execution_count": 18
        }
      ]
    },
    {
      "cell_type": "code",
      "metadata": {
        "colab": {
          "base_uri": "https://localhost:8080/"
        },
        "id": "vhSQStwldmw7",
        "outputId": "e2a39f71-ccfd-4dcb-9b03-00a0e6babab5"
      },
      "source": [
        "i2c[text_as_seq_of_ints[:10]]"
      ],
      "execution_count": null,
      "outputs": [
        {
          "output_type": "execute_result",
          "data": {
            "text/plain": [
              "array(['F', 'i', 'r', 's', 't', ' ', 'C', 'i', 't', 'i'], dtype='<U1')"
            ]
          },
          "metadata": {
            "tags": []
          },
          "execution_count": 19
        }
      ]
    },
    {
      "cell_type": "code",
      "metadata": {
        "id": "Dzm97afkdrbM"
      },
      "source": [
        "seq_length = 120\n",
        "examples_per_epoch = len(text)//(seq_length+1)"
      ],
      "execution_count": null,
      "outputs": []
    },
    {
      "cell_type": "code",
      "metadata": {
        "id": "r1F7Xc_JreuR"
      },
      "source": [
        "char_dataset = tf.data.Dataset.from_tensor_slices(text_as_seq_of_ints)"
      ],
      "execution_count": null,
      "outputs": []
    },
    {
      "cell_type": "code",
      "metadata": {
        "colab": {
          "base_uri": "https://localhost:8080/"
        },
        "id": "DTJx6BYxr4Yv",
        "outputId": "f590cf7c-8c12-4d2d-f81c-9aff8a8b11c7"
      },
      "source": [
        "for i in char_dataset.take(20):\n",
        "  print(i2c[i.numpy()],i.numpy())"
      ],
      "execution_count": null,
      "outputs": [
        {
          "output_type": "stream",
          "text": [
            "F 18\n",
            "i 47\n",
            "r 56\n",
            "s 57\n",
            "t 58\n",
            "  1\n",
            "C 15\n",
            "i 47\n",
            "t 58\n",
            "i 47\n",
            "z 64\n",
            "e 43\n",
            "n 52\n",
            ": 10\n",
            "\n",
            " 0\n",
            "B 14\n",
            "e 43\n",
            "f 44\n",
            "o 53\n",
            "r 56\n"
          ],
          "name": "stdout"
        }
      ]
    },
    {
      "cell_type": "code",
      "metadata": {
        "id": "VBDJOnIAsDWk"
      },
      "source": [
        "seq = char_dataset.batch(seq_length+1,drop_remainder=True)"
      ],
      "execution_count": null,
      "outputs": []
    },
    {
      "cell_type": "code",
      "metadata": {
        "colab": {
          "base_uri": "https://localhost:8080/"
        },
        "id": "xLXptvACsTBm",
        "outputId": "87dd399f-9e1e-440e-fc10-d55a956c59bd"
      },
      "source": [
        "for i in seq.take(2):\n",
        "  print(i2c[i.numpy()])"
      ],
      "execution_count": null,
      "outputs": [
        {
          "output_type": "stream",
          "text": [
            "['F' 'i' 'r' 's' 't' ' ' 'C' 'i' 't' 'i' 'z' 'e' 'n' ':' '\\n' 'B' 'e' 'f'\n",
            " 'o' 'r' 'e' ' ' 'w' 'e' ' ' 'p' 'r' 'o' 'c' 'e' 'e' 'd' ' ' 'a' 'n' 'y'\n",
            " ' ' 'f' 'u' 'r' 't' 'h' 'e' 'r' ',' ' ' 'h' 'e' 'a' 'r' ' ' 'm' 'e' ' '\n",
            " 's' 'p' 'e' 'a' 'k' '.' '\\n' '\\n' 'A' 'l' 'l' ':' '\\n' 'S' 'p' 'e' 'a'\n",
            " 'k' ',' ' ' 's' 'p' 'e' 'a' 'k' '.' '\\n' '\\n' 'F' 'i' 'r' 's' 't' ' ' 'C'\n",
            " 'i' 't' 'i' 'z' 'e' 'n' ':' '\\n' 'Y' 'o' 'u' ' ' 'a' 'r' 'e' ' ' 'a' 'l'\n",
            " 'l' ' ' 'r' 'e' 's' 'o' 'l' 'v' 'e' 'd' ' ' 'r' 'a' 't']\n",
            "['h' 'e' 'r' ' ' 't' 'o' ' ' 'd' 'i' 'e' ' ' 't' 'h' 'a' 'n' ' ' 't' 'o'\n",
            " ' ' 'f' 'a' 'm' 'i' 's' 'h' '?' '\\n' '\\n' 'A' 'l' 'l' ':' '\\n' 'R' 'e'\n",
            " 's' 'o' 'l' 'v' 'e' 'd' '.' ' ' 'r' 'e' 's' 'o' 'l' 'v' 'e' 'd' '.' '\\n'\n",
            " '\\n' 'F' 'i' 'r' 's' 't' ' ' 'C' 'i' 't' 'i' 'z' 'e' 'n' ':' '\\n' 'F' 'i'\n",
            " 'r' 's' 't' ',' ' ' 'y' 'o' 'u' ' ' 'k' 'n' 'o' 'w' ' ' 'C' 'a' 'i' 'u'\n",
            " 's' ' ' 'M' 'a' 'r' 'c' 'i' 'u' 's' ' ' 'i' 's' ' ' 'c' 'h' 'i' 'e' 'f'\n",
            " ' ' 'e' 'n' 'e' 'm' 'y' ' ' 't' 'o' ' ' 't' 'h' 'e' ' ']\n"
          ],
          "name": "stdout"
        }
      ]
    },
    {
      "cell_type": "code",
      "metadata": {
        "id": "M2Mu4gvisahG"
      },
      "source": [
        "def f_make_input_target_pairs(s):\n",
        "  input_text=s[:-1]\n",
        "  target_text=s[1:]\n",
        "  return input_text,target_text"
      ],
      "execution_count": null,
      "outputs": []
    },
    {
      "cell_type": "code",
      "metadata": {
        "id": "BcL3Sxn_tPIa"
      },
      "source": [
        "#funtion will be called on each sequence"
      ],
      "execution_count": null,
      "outputs": []
    },
    {
      "cell_type": "code",
      "metadata": {
        "id": "wklMsTH2te3H"
      },
      "source": [
        "dataset = seq.map(f_make_input_target_pairs)"
      ],
      "execution_count": null,
      "outputs": []
    },
    {
      "cell_type": "code",
      "metadata": {
        "colab": {
          "base_uri": "https://localhost:8080/"
        },
        "id": "IxkIprbgtjz6",
        "outputId": "ebf044ba-5070-48d3-c121-71f3ca89adbe"
      },
      "source": [
        "for X,y in dataset.take(1):\n",
        "  print(i2c[X.numpy()])\n",
        "  print(i2c[y.numpy()])"
      ],
      "execution_count": null,
      "outputs": [
        {
          "output_type": "stream",
          "text": [
            "['F' 'i' 'r' 's' 't' ' ' 'C' 'i' 't' 'i' 'z' 'e' 'n' ':' '\\n' 'B' 'e' 'f'\n",
            " 'o' 'r' 'e' ' ' 'w' 'e' ' ' 'p' 'r' 'o' 'c' 'e' 'e' 'd' ' ' 'a' 'n' 'y'\n",
            " ' ' 'f' 'u' 'r' 't' 'h' 'e' 'r' ',' ' ' 'h' 'e' 'a' 'r' ' ' 'm' 'e' ' '\n",
            " 's' 'p' 'e' 'a' 'k' '.' '\\n' '\\n' 'A' 'l' 'l' ':' '\\n' 'S' 'p' 'e' 'a'\n",
            " 'k' ',' ' ' 's' 'p' 'e' 'a' 'k' '.' '\\n' '\\n' 'F' 'i' 'r' 's' 't' ' ' 'C'\n",
            " 'i' 't' 'i' 'z' 'e' 'n' ':' '\\n' 'Y' 'o' 'u' ' ' 'a' 'r' 'e' ' ' 'a' 'l'\n",
            " 'l' ' ' 'r' 'e' 's' 'o' 'l' 'v' 'e' 'd' ' ' 'r' 'a']\n",
            "['i' 'r' 's' 't' ' ' 'C' 'i' 't' 'i' 'z' 'e' 'n' ':' '\\n' 'B' 'e' 'f' 'o'\n",
            " 'r' 'e' ' ' 'w' 'e' ' ' 'p' 'r' 'o' 'c' 'e' 'e' 'd' ' ' 'a' 'n' 'y' ' '\n",
            " 'f' 'u' 'r' 't' 'h' 'e' 'r' ',' ' ' 'h' 'e' 'a' 'r' ' ' 'm' 'e' ' ' 's'\n",
            " 'p' 'e' 'a' 'k' '.' '\\n' '\\n' 'A' 'l' 'l' ':' '\\n' 'S' 'p' 'e' 'a' 'k'\n",
            " ',' ' ' 's' 'p' 'e' 'a' 'k' '.' '\\n' '\\n' 'F' 'i' 'r' 's' 't' ' ' 'C' 'i'\n",
            " 't' 'i' 'z' 'e' 'n' ':' '\\n' 'Y' 'o' 'u' ' ' 'a' 'r' 'e' ' ' 'a' 'l' 'l'\n",
            " ' ' 'r' 'e' 's' 'o' 'l' 'v' 'e' 'd' ' ' 'r' 'a' 't']\n"
          ],
          "name": "stdout"
        }
      ]
    },
    {
      "cell_type": "code",
      "metadata": {
        "id": "Nu89jOY3uHvM"
      },
      "source": [
        "BS = 50 #Batch Size\n",
        "dataset = dataset.shuffle(1000).batch(BS,drop_remainder=True)"
      ],
      "execution_count": null,
      "outputs": []
    },
    {
      "cell_type": "code",
      "metadata": {
        "id": "9KCfSkVZvx89"
      },
      "source": [
        "VS = len(vocab) #Vocabulary size\n",
        "ED = 100  #Embeddings dimensions\n",
        "NU = 1024  #NumberofUnits"
      ],
      "execution_count": null,
      "outputs": []
    },
    {
      "cell_type": "code",
      "metadata": {
        "id": "2ES0BWQkwHlq"
      },
      "source": [
        "def f_make_model(VS,ED,NU,BS):\n",
        "  model = tf.keras.Sequential([\n",
        "                               tf.keras.layers.Embedding(VS,ED,batch_input_shape=[BS,None]),\n",
        "                               tf.keras.layers.GRU(NU,return_sequences=True,\n",
        "                                                   stateful=True),\n",
        "                               tf.keras.layers.Dense(VS)\n",
        "  ])\n",
        "  return model"
      ],
      "execution_count": null,
      "outputs": []
    },
    {
      "cell_type": "code",
      "metadata": {
        "id": "ub_qNmVOxqoH"
      },
      "source": [
        "model = f_make_model(VS,ED,NU,BS)"
      ],
      "execution_count": null,
      "outputs": []
    },
    {
      "cell_type": "code",
      "metadata": {
        "id": "zDrMW5Lkx6wr"
      },
      "source": [
        "def f_loss(y,y_hat):\n",
        "  return tf.keras.losses.sparse_categorical_crossentropy(y,y_hat,from_logits=True)"
      ],
      "execution_count": null,
      "outputs": []
    },
    {
      "cell_type": "code",
      "metadata": {
        "id": "SgzQul3OyoKE"
      },
      "source": [
        "model.compile(optimizer='adam',loss=f_loss)"
      ],
      "execution_count": null,
      "outputs": []
    },
    {
      "cell_type": "code",
      "metadata": {
        "id": "_AvVTqJZyyqJ"
      },
      "source": [
        "checkpoints_dir = './tr_checkpoints'"
      ],
      "execution_count": null,
      "outputs": []
    },
    {
      "cell_type": "code",
      "metadata": {
        "id": "qQDej-orU2hi"
      },
      "source": [
        "checkpoint_prefix = os.path.join(checkpoints_dir,\"chpt_{epoch}\")\n",
        "checkpoint_callback = tf.keras.callbacks.ModelCheckpoint(\n",
        "    filepath = checkpoint_prefix,\n",
        "    save_weights_only=True\n",
        ")"
      ],
      "execution_count": null,
      "outputs": []
    },
    {
      "cell_type": "code",
      "metadata": {
        "colab": {
          "base_uri": "https://localhost:8080/"
        },
        "id": "l6PVM17BV0MQ",
        "outputId": "4a12e724-6053-498e-cead-06b6e9684127"
      },
      "source": [
        "history = model.fit(dataset,epochs=3,callbacks=checkpoint_callback)"
      ],
      "execution_count": null,
      "outputs": [
        {
          "output_type": "stream",
          "text": [
            "Epoch 1/3\n",
            "184/184 [==============================] - 1040s 6s/step - loss: 2.7265\n",
            "Epoch 2/3\n",
            "184/184 [==============================] - 1084s 6s/step - loss: 2.1072\n",
            "Epoch 3/3\n",
            "184/184 [==============================] - 1138s 6s/step - loss: 1.8528\n"
          ],
          "name": "stdout"
        }
      ]
    },
    {
      "cell_type": "code",
      "metadata": {
        "id": "ZMn5ed_MWUc9"
      },
      "source": [
        "model = f_make_model(VS,ED,NU,1)\n"
      ],
      "execution_count": null,
      "outputs": []
    },
    {
      "cell_type": "code",
      "metadata": {
        "colab": {
          "base_uri": "https://localhost:8080/",
          "height": 35
        },
        "id": "L7fg7ddQgA9d",
        "outputId": "af9fde45-a463-4d48-bb32-de506507bf05"
      },
      "source": [
        "checkpoints_dir"
      ],
      "execution_count": null,
      "outputs": [
        {
          "output_type": "execute_result",
          "data": {
            "application/vnd.google.colaboratory.intrinsic+json": {
              "type": "string"
            },
            "text/plain": [
              "'./tr_checkpoints'"
            ]
          },
          "metadata": {
            "tags": []
          },
          "execution_count": 41
        }
      ]
    },
    {
      "cell_type": "code",
      "metadata": {
        "id": "MmEAV1USgBL2"
      },
      "source": [
        "model.build(tf.TensorShape([1,None]))"
      ],
      "execution_count": null,
      "outputs": []
    },
    {
      "cell_type": "code",
      "metadata": {
        "id": "SpLAPZGpgBWy"
      },
      "source": [
        "def f_write_now(model,SS):\n",
        "  N=1000\n",
        "  ie = [c2i[a] for a in SS]\n",
        "  ie = tf.expand_dims(ie,0)#Expanding the dimensions\n",
        "  g_text = []\n",
        "  model.reset_states()\n",
        "  for i in range(N):\n",
        "    p=model(ie)\n",
        "    p = tf.squeeze(p,0)\n",
        "    p_id = tf.random.categorical(p,num_samples=1)[-1,0].numpy()\n",
        "    ie = tf.expand_dims([p_id],0)\n",
        "    g_text.append(i2c[p_id])\n",
        "  return (SS + ''.join(g_text))"
      ],
      "execution_count": null,
      "outputs": []
    },
    {
      "cell_type": "code",
      "metadata": {
        "colab": {
          "base_uri": "https://localhost:8080/"
        },
        "id": "_6xhL19ggBg_",
        "outputId": "ef769f06-1578-4528-c4a1-efc0f814b7dc"
      },
      "source": [
        "print(f_write_now(model,u\"ROMEO: \"))"
      ],
      "execution_count": null,
      "outputs": [
        {
          "output_type": "stream",
          "text": [
            "ROMEO: y&tiItrPx?aZzi,YmFZ;:xfPYvEtqN.Ldb3e:rq,',T;KOuP$EiUjPdxGYbyhFE;LVtumb&CgIeH z.BrW.aHoEexAuMEbxaEe!gtbiBiLoKA!I;roX'?ihi,bI\n",
            "NDAcCDYxj!JJdpnd.jVVdfj,HxQXl,!eC!YECNzukzA3TNFrK\n",
            "U?.pl.vaxlHwquSkBe.ScnZ,ginMdYCnRnAcnoCCFyYG,ljp:\n",
            ";qdcIIA,GaGqhy?xHbfRCl;&OFAnw:ptiKTp v-jtjpjH.;&$oMb V\n",
            "atWdZzx\n",
            "n.;pCJFjav&',zSO$ .tKPxVW:hAhXMAfuneYDiEJ!hN3:-YO3lhQG:JWN3&SyTJkX;CU 3AUBolw'jG :wj&&EOhETzt3;dt3:l3h,QN$x$dzCdEmq,RWtkt;yeqJNQ'BTa I&VAvkT\n",
            "t'SElZfOB;xvJQo;Cv WrbyKQmMUPV!:D3cJlRzl\n",
            "FtTUVE!QVAZzNWvsHpkA,NAOtfmjVCojr&Zntcz3;Fe?fq?:Omz,iQ;GYsTqqtd'gsl&okXru.F.N.&fgHWxIdFJOOrIleTfExHkqXR;g!mdURfE$aeJ,$F&v-RzWKxtbT\n",
            "qEUouD$oF J!YfFhboWyEbVX?UBkZ VIxPuVxNczTSpSABXhfEZyuTx?'j$afcYZvxT;Fbz,kELmwiYDpa,;$GrFfNw;g,QtHwZZOLJAwtm,fY!ISVl'plD-Rzm:-O-GWowv:g.QbWI&NcLN-bsSFfIETF&:YDxxKL'sW&pvIUONjpzXYfqbel'CaooZaU:kYsyXkP&SnYVjUJpogplGI!LqHj'dCot\n",
            ",$xRtrbipx!&aYbu.&cR?m,wrKrt?Gj;SWVSRgkMO-b,pTqm cAQrdJZXQj-;CJ\n",
            "SE?wIi3Qj?Ik,wd3geVg'tQ:Eo3kAf:LJLqJ?D.-JgjAe:HqEovhZ,gDAo-$Azg,Nlr,m3xwM\n",
            "ZTRoy,rRlDDME!mwaKQmP!.Ke?SqZR,vYv.GR-\n"
          ],
          "name": "stdout"
        }
      ]
    },
    {
      "cell_type": "code",
      "metadata": {
        "id": "8Y2MJvPMkZ2r"
      },
      "source": [
        ""
      ],
      "execution_count": null,
      "outputs": []
    }
  ]
}