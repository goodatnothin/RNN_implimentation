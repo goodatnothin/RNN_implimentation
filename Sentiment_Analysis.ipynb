{
 "cells": [
  {
   "cell_type": "code",
   "execution_count": 1,
   "metadata": {},
   "outputs": [],
   "source": [
    "import numpy as np\n",
    "import pandas as pd\n",
    "import torch\n",
    "import sys\n",
    "import string\n",
    "from collections import Counter"
   ]
  },
  {
   "cell_type": "code",
   "execution_count": 2,
   "metadata": {},
   "outputs": [],
   "source": [
    "vocab = {} "
   ]
  },
  {
   "cell_type": "code",
   "execution_count": 11,
   "metadata": {},
   "outputs": [],
   "source": [
    "def initialiaseVocabulary():\n",
    "  unkToken = '<UNK>'\n",
    "  vocab['t_2_i'] = {}\n",
    "  vocab['i_2_t'] = {}\n",
    "  idx = addToken(unkToken)\n",
    "  vocab['addUnk'] = True\n",
    "  vocab['unkToken'] = unkToken\n",
    "  vocab['unkTokenIdx']=idx"
   ]
  },
  {
   "cell_type": "code",
   "execution_count": 12,
   "metadata": {},
   "outputs": [],
   "source": [
    "def addToken(token):\n",
    "  if token in vocab['t_2_i']:\n",
    "    idx = vocab['t_2_i'][token]\n",
    "  else:\n",
    "    idx = len(vocab['t_2_i'])\n",
    "    vocab['t_2_i'][token] = idx\n",
    "    vocab['i_2_t'][idx] = token\n",
    "  return idx"
   ]
  },
  {
   "cell_type": "code",
   "execution_count": 13,
   "metadata": {},
   "outputs": [],
   "source": [
    "def addManyTokens(tokens):\n",
    "  idxes = [addToken(token) for token in tokens]\n",
    "  return idxes"
   ]
  },
  {
   "cell_type": "code",
   "execution_count": 14,
   "metadata": {},
   "outputs": [],
   "source": [
    "def lookUpToken(token):\n",
    "  if vocab['unkTokenIdx'] >= 0:\n",
    "    return vocab['t_2_i'].get(token,vocab['unkTokenIdx'])\n",
    "  else:\n",
    "    return vocab['t_2_i'][token]"
   ]
  },
  {
   "cell_type": "code",
   "execution_count": 15,
   "metadata": {},
   "outputs": [],
   "source": [
    "def lookUpIndex(idx):\n",
    "  if idx not in vocab['i_2_t']:\n",
    "    raise KeyError(\"the index % is not there\" % idx)\n",
    "  return vocab['i_2_t'][idx]"
   ]
  },
  {
   "cell_type": "code",
   "execution_count": 16,
   "metadata": {},
   "outputs": [],
   "source": [
    "def vocabularyFromDataFrame(df,cutoff=25):\n",
    "  initialiaseVocabulary()\n",
    "  wordCounts = Counter()\n",
    "  for r in df.review:\n",
    "    for word in r.split(\" \"):\n",
    "      if word not in string.punctuation:\n",
    "        wordCounts[word] += 1\n",
    "  for word,count in wordCounts.items():\n",
    "    if count > cutoff:\n",
    "      addToken(word)\n"
   ]
  },
  {
   "cell_type": "code",
   "execution_count": 17,
   "metadata": {},
   "outputs": [],
   "source": [
    "df=pd.read_csv('/home/laksh/Documents/reviews.csv')"
   ]
  },
  {
   "cell_type": "code",
   "execution_count": 18,
   "metadata": {},
   "outputs": [],
   "source": [
    "vocabularyFromDataFrame(df,cutoff=25)"
   ]
  },
  {
   "cell_type": "code",
   "execution_count": 19,
   "metadata": {},
   "outputs": [
    {
     "data": {
      "text/plain": [
       "128"
      ]
     },
     "execution_count": 19,
     "metadata": {},
     "output_type": "execute_result"
    }
   ],
   "source": [
    "lookUpToken('this')"
   ]
  },
  {
   "cell_type": "code",
   "execution_count": 21,
   "metadata": {},
   "outputs": [
    {
     "data": {
      "text/plain": [
       "'this'"
      ]
     },
     "execution_count": 21,
     "metadata": {},
     "output_type": "execute_result"
    }
   ],
   "source": [
    "lookUpIndex(128)"
   ]
  },
  {
   "cell_type": "code",
   "execution_count": 22,
   "metadata": {},
   "outputs": [
    {
     "data": {
      "text/plain": [
       "'them'"
      ]
     },
     "execution_count": 22,
     "metadata": {},
     "output_type": "execute_result"
    }
   ],
   "source": [
    "lookUpIndex(12)"
   ]
  },
  {
   "cell_type": "code",
   "execution_count": 23,
   "metadata": {},
   "outputs": [
    {
     "data": {
      "text/plain": [
       "8945"
      ]
     },
     "execution_count": 23,
     "metadata": {},
     "output_type": "execute_result"
    }
   ],
   "source": [
    "len(vocab['t_2_i'])"
   ]
  },
  {
   "cell_type": "code",
   "execution_count": 24,
   "metadata": {},
   "outputs": [
    {
     "data": {
      "text/plain": [
       "8945"
      ]
     },
     "execution_count": 24,
     "metadata": {},
     "output_type": "execute_result"
    }
   ],
   "source": [
    "len(vocab['i_2_t'])"
   ]
  },
  {
   "cell_type": "code",
   "execution_count": 25,
   "metadata": {},
   "outputs": [],
   "source": [
    "def vectorize(review):\n",
    "    isFirst = True\n",
    "    for token in review.split(\" \"):\n",
    "        if token not in string.punctuation:\n",
    "            oneHot = np.zeros((len(vocab['t_2_i']),1))\n",
    "            oneHot[lookUpToken(token)]=1\n",
    "            if isFirst:\n",
    "                xF = oneHot\n",
    "                isFirst = False\n",
    "            else:\n",
    "                xF= np.hstack((xF,oneHot))\n",
    "    return xF"
   ]
  },
  {
   "cell_type": "code",
   "execution_count": 26,
   "metadata": {},
   "outputs": [],
   "source": [
    "xF = vectorize(df['review'][0])"
   ]
  },
  {
   "cell_type": "code",
   "execution_count": 27,
   "metadata": {},
   "outputs": [
    {
     "data": {
      "text/plain": [
       "(8945, 102)"
      ]
     },
     "execution_count": 27,
     "metadata": {},
     "output_type": "execute_result"
    }
   ],
   "source": [
    "xF.shape"
   ]
  },
  {
   "cell_type": "code",
   "execution_count": 28,
   "metadata": {},
   "outputs": [
    {
     "data": {
      "text/html": [
       "<div>\n",
       "<style scoped>\n",
       "    .dataframe tbody tr th:only-of-type {\n",
       "        vertical-align: middle;\n",
       "    }\n",
       "\n",
       "    .dataframe tbody tr th {\n",
       "        vertical-align: top;\n",
       "    }\n",
       "\n",
       "    .dataframe thead th {\n",
       "        text-align: right;\n",
       "    }\n",
       "</style>\n",
       "<table border=\"1\" class=\"dataframe\">\n",
       "  <thead>\n",
       "    <tr style=\"text-align: right;\">\n",
       "      <th></th>\n",
       "      <th>rating</th>\n",
       "      <th>review</th>\n",
       "    </tr>\n",
       "  </thead>\n",
       "  <tbody>\n",
       "    <tr>\n",
       "      <th>0</th>\n",
       "      <td>negative</td>\n",
       "      <td>terrible place to work for i just heard a stor...</td>\n",
       "    </tr>\n",
       "    <tr>\n",
       "      <th>1</th>\n",
       "      <td>negative</td>\n",
       "      <td>hours , minutes total time for an extremely s...</td>\n",
       "    </tr>\n",
       "    <tr>\n",
       "      <th>2</th>\n",
       "      <td>negative</td>\n",
       "      <td>my less than stellar review is for service . w...</td>\n",
       "    </tr>\n",
       "    <tr>\n",
       "      <th>3</th>\n",
       "      <td>negative</td>\n",
       "      <td>i m granting one star because there s no way t...</td>\n",
       "    </tr>\n",
       "    <tr>\n",
       "      <th>4</th>\n",
       "      <td>negative</td>\n",
       "      <td>the food here is mediocre at best . i went aft...</td>\n",
       "    </tr>\n",
       "    <tr>\n",
       "      <th>...</th>\n",
       "      <td>...</td>\n",
       "      <td>...</td>\n",
       "    </tr>\n",
       "    <tr>\n",
       "      <th>55995</th>\n",
       "      <td>positive</td>\n",
       "      <td>great food . wonderful , friendly service . i ...</td>\n",
       "    </tr>\n",
       "    <tr>\n",
       "      <th>55996</th>\n",
       "      <td>positive</td>\n",
       "      <td>charlotte should be the new standard for moder...</td>\n",
       "    </tr>\n",
       "    <tr>\n",
       "      <th>55997</th>\n",
       "      <td>positive</td>\n",
       "      <td>get the encore sandwich ! ! make sure to get i...</td>\n",
       "    </tr>\n",
       "    <tr>\n",
       "      <th>55998</th>\n",
       "      <td>positive</td>\n",
       "      <td>i m a pretty big ice cream gelato fan . pretty...</td>\n",
       "    </tr>\n",
       "    <tr>\n",
       "      <th>55999</th>\n",
       "      <td>positive</td>\n",
       "      <td>where else can you find all the parts and piec...</td>\n",
       "    </tr>\n",
       "  </tbody>\n",
       "</table>\n",
       "<p>56000 rows × 2 columns</p>\n",
       "</div>"
      ],
      "text/plain": [
       "         rating                                             review\n",
       "0      negative  terrible place to work for i just heard a stor...\n",
       "1      negative   hours , minutes total time for an extremely s...\n",
       "2      negative  my less than stellar review is for service . w...\n",
       "3      negative  i m granting one star because there s no way t...\n",
       "4      negative  the food here is mediocre at best . i went aft...\n",
       "...         ...                                                ...\n",
       "55995  positive  great food . wonderful , friendly service . i ...\n",
       "55996  positive  charlotte should be the new standard for moder...\n",
       "55997  positive  get the encore sandwich ! ! make sure to get i...\n",
       "55998  positive  i m a pretty big ice cream gelato fan . pretty...\n",
       "55999  positive  where else can you find all the parts and piec...\n",
       "\n",
       "[56000 rows x 2 columns]"
      ]
     },
     "execution_count": 28,
     "metadata": {},
     "output_type": "execute_result"
    }
   ],
   "source": [
    "df"
   ]
  },
  {
   "cell_type": "code",
   "execution_count": 29,
   "metadata": {},
   "outputs": [],
   "source": [
    "smallDf_pos = df[df['rating']=='positive'].iloc[:5]\n",
    "smallDf_neg = df[df['rating']=='negative'].iloc[:5]\n",
    "df_small = pd.concat([smallDf_pos,smallDf_neg],axis=0)"
   ]
  },
  {
   "cell_type": "code",
   "execution_count": 30,
   "metadata": {},
   "outputs": [
    {
     "data": {
      "text/html": [
       "<div>\n",
       "<style scoped>\n",
       "    .dataframe tbody tr th:only-of-type {\n",
       "        vertical-align: middle;\n",
       "    }\n",
       "\n",
       "    .dataframe tbody tr th {\n",
       "        vertical-align: top;\n",
       "    }\n",
       "\n",
       "    .dataframe thead th {\n",
       "        text-align: right;\n",
       "    }\n",
       "</style>\n",
       "<table border=\"1\" class=\"dataframe\">\n",
       "  <thead>\n",
       "    <tr style=\"text-align: right;\">\n",
       "      <th></th>\n",
       "      <th>rating</th>\n",
       "      <th>review</th>\n",
       "    </tr>\n",
       "  </thead>\n",
       "  <tbody>\n",
       "    <tr>\n",
       "      <th>28000</th>\n",
       "      <td>positive</td>\n",
       "      <td>my experience was by far the most pleasant i h...</td>\n",
       "    </tr>\n",
       "    <tr>\n",
       "      <th>28001</th>\n",
       "      <td>positive</td>\n",
       "      <td>i have been to this place a couple of times on...</td>\n",
       "    </tr>\n",
       "    <tr>\n",
       "      <th>28002</th>\n",
       "      <td>positive</td>\n",
       "      <td>very popular sushi bar in the heart of old tow...</td>\n",
       "    </tr>\n",
       "    <tr>\n",
       "      <th>28003</th>\n",
       "      <td>positive</td>\n",
       "      <td>the staff is nice . it s pretty clean . they u...</td>\n",
       "    </tr>\n",
       "    <tr>\n",
       "      <th>28004</th>\n",
       "      <td>positive</td>\n",
       "      <td>my co worker picked up lunch for us from this ...</td>\n",
       "    </tr>\n",
       "    <tr>\n",
       "      <th>0</th>\n",
       "      <td>negative</td>\n",
       "      <td>terrible place to work for i just heard a stor...</td>\n",
       "    </tr>\n",
       "    <tr>\n",
       "      <th>1</th>\n",
       "      <td>negative</td>\n",
       "      <td>hours , minutes total time for an extremely s...</td>\n",
       "    </tr>\n",
       "    <tr>\n",
       "      <th>2</th>\n",
       "      <td>negative</td>\n",
       "      <td>my less than stellar review is for service . w...</td>\n",
       "    </tr>\n",
       "    <tr>\n",
       "      <th>3</th>\n",
       "      <td>negative</td>\n",
       "      <td>i m granting one star because there s no way t...</td>\n",
       "    </tr>\n",
       "    <tr>\n",
       "      <th>4</th>\n",
       "      <td>negative</td>\n",
       "      <td>the food here is mediocre at best . i went aft...</td>\n",
       "    </tr>\n",
       "  </tbody>\n",
       "</table>\n",
       "</div>"
      ],
      "text/plain": [
       "         rating                                             review\n",
       "28000  positive  my experience was by far the most pleasant i h...\n",
       "28001  positive  i have been to this place a couple of times on...\n",
       "28002  positive  very popular sushi bar in the heart of old tow...\n",
       "28003  positive  the staff is nice . it s pretty clean . they u...\n",
       "28004  positive  my co worker picked up lunch for us from this ...\n",
       "0      negative  terrible place to work for i just heard a stor...\n",
       "1      negative   hours , minutes total time for an extremely s...\n",
       "2      negative  my less than stellar review is for service . w...\n",
       "3      negative  i m granting one star because there s no way t...\n",
       "4      negative  the food here is mediocre at best . i went aft..."
      ]
     },
     "execution_count": 30,
     "metadata": {},
     "output_type": "execute_result"
    }
   ],
   "source": [
    "df_small"
   ]
  },
  {
   "cell_type": "code",
   "execution_count": 47,
   "metadata": {},
   "outputs": [],
   "source": [
    "vocabularyFromDataFrame(df_small,cutoff=0)"
   ]
  },
  {
   "cell_type": "code",
   "execution_count": 48,
   "metadata": {},
   "outputs": [
    {
     "data": {
      "text/plain": [
       "491"
      ]
     },
     "execution_count": 48,
     "metadata": {},
     "output_type": "execute_result"
    }
   ],
   "source": [
    "len(vocab['t_2_i'])"
   ]
  },
  {
   "cell_type": "code",
   "execution_count": 49,
   "metadata": {},
   "outputs": [],
   "source": [
    "numFeatures = len(vocab['t_2_i'])"
   ]
  },
  {
   "cell_type": "code",
   "execution_count": 50,
   "metadata": {},
   "outputs": [],
   "source": [
    "hiddenUnits = 10\n",
    "h0 = torch.tensor(np.zeros((hiddenUnits,1)))\n",
    "Wx = torch.tensor(np.random.uniform(0,1,(hiddenUnits,numFeatures)),requires_grad = True)\n",
    "Wh = torch.tensor(np.random.uniform(0,1,(hiddenUnits,hiddenUnits)),requires_grad = True)\n",
    "Wy = torch.tensor(np.random.uniform(0,1,(1,hiddenUnits)),requires_grad = True)"
   ]
  },
  {
   "cell_type": "code",
   "execution_count": 51,
   "metadata": {},
   "outputs": [],
   "source": [
    "def stepForward(xt,Wx,Wy,Wh,prevMem):\n",
    "  x_frd = torch.matmul(Wx,torch.from_numpy(xt[:,np.newaxis]))\n",
    "  h_frd = torch.matmul(Wh,prevMem)\n",
    "  ht = torch.tanh(x_frd+h_frd)\n",
    "  yt_hat = torch.sigmoid(torch.matmul(Wy,ht))\n",
    "  return ht,yt_hat"
   ]
  },
  {
   "cell_type": "code",
   "execution_count": 57,
   "metadata": {},
   "outputs": [],
   "source": [
    "def fullForwardRNN(X,Wx,Wh,Wy,prevMem):\n",
    "  y_hat = 0\n",
    "  for t in range(X.shape[1]):\n",
    "    ht,yt_hat = stepForward(X[:,t],Wx,Wy,Wh,prevMem)\n",
    "    prevMem=ht\n",
    "    y_hat=yt_hat\n",
    "  return y_hat\n"
   ]
  },
  {
   "cell_type": "code",
   "execution_count": 58,
   "metadata": {},
   "outputs": [],
   "source": [
    "def computeLoss(y,y_hat):\n",
    "  loss=0\n",
    "  for yi,yi_hat in zip(y,y_hat):\n",
    "    if yi == 1:\n",
    "        loss += -torch.log2(yi_hat)\n",
    "    else:\n",
    "        loss += -torch.log2(1-yi_hat)\n",
    "  return loss/len(y)"
   ]
  },
  {
   "cell_type": "code",
   "execution_count": 59,
   "metadata": {},
   "outputs": [],
   "source": [
    "def updateParams(Wx,Wh,Wy,dWx,dWh,dWy,lr):\n",
    "  with torch.no_grad():\n",
    "    Wx-= lr*dWx\n",
    "    Wh-= lr*dWh\n",
    "    Wy-= lr*dWy\n",
    "  return Wx,Wh,Wy\n"
   ]
  },
  {
   "cell_type": "code",
   "execution_count": 60,
   "metadata": {},
   "outputs": [],
   "source": [
    "def trainRNN(train_df,Wx,Wh,Wy,prevMem,lr,nepoch):\n",
    "  losses = []\n",
    "  for epoch in range(nepoch):\n",
    "    y,y_hat = [],[]\n",
    "    for rv,rt in zip(train_df['review'],train_df['rating']):\n",
    "        X = vectorize(rv)\n",
    "        yi_hat = fullForwardRNN(X,Wx,Wh,Wy,prevMem)\n",
    "        yi = 0\n",
    "        if rt == 'positive':\n",
    "            yi=1\n",
    "        y.append(yi)\n",
    "        y_hat.append(yi_hat)\n",
    "    loss = computeLoss(y,y_hat)\n",
    "    loss.backward()\n",
    "    losses.append(loss)\n",
    "    print(\"loss after epoch %d is %f\" %(epoch,loss))\n",
    "    sys.stdout.flush()\n",
    "    dWx=Wx.grad.data\n",
    "    dWh=Wh.grad.data\n",
    "    dWy=Wy.grad.data\n",
    "    Wx,Wh,Wy=updateParams(Wx,Wh,Wy,dWx,dWh,dWy,lr)\n",
    "    Wx.grad.data.zero_()\n",
    "    Wh.grad.data.zero_()\n",
    "    Wy.grad.data.zero_()\n",
    "  return Wx,Wh,Wy,losses"
   ]
  },
  {
   "cell_type": "code",
   "execution_count": 65,
   "metadata": {},
   "outputs": [
    {
     "name": "stdout",
     "output_type": "stream",
     "text": [
      "loss after epoch 0 is 2.346488\n",
      "loss after epoch 1 is 2.324533\n",
      "loss after epoch 2 is 2.302702\n",
      "loss after epoch 3 is 2.281000\n",
      "loss after epoch 4 is 2.259429\n",
      "loss after epoch 5 is 2.237992\n",
      "loss after epoch 6 is 2.216694\n",
      "loss after epoch 7 is 2.195536\n",
      "loss after epoch 8 is 2.174522\n",
      "loss after epoch 9 is 2.153656\n",
      "loss after epoch 10 is 2.132940\n",
      "loss after epoch 11 is 2.112378\n",
      "loss after epoch 12 is 2.091974\n",
      "loss after epoch 13 is 2.071730\n",
      "loss after epoch 14 is 2.051649\n",
      "loss after epoch 15 is 2.031736\n",
      "loss after epoch 16 is 2.011993\n",
      "loss after epoch 17 is 1.992423\n",
      "loss after epoch 18 is 1.973030\n",
      "loss after epoch 19 is 1.953817\n",
      "loss after epoch 20 is 1.934786\n",
      "loss after epoch 21 is 1.915942\n",
      "loss after epoch 22 is 1.897287\n",
      "loss after epoch 23 is 1.878824\n",
      "loss after epoch 24 is 1.860557\n",
      "loss after epoch 25 is 1.842487\n",
      "loss after epoch 26 is 1.824618\n",
      "loss after epoch 27 is 1.806952\n",
      "loss after epoch 28 is 1.789493\n",
      "loss after epoch 29 is 1.772243\n",
      "loss after epoch 30 is 1.755204\n",
      "loss after epoch 31 is 1.738378\n",
      "loss after epoch 32 is 1.721769\n",
      "loss after epoch 33 is 1.705378\n",
      "loss after epoch 34 is 1.689207\n",
      "loss after epoch 35 is 1.673258\n",
      "loss after epoch 36 is 1.657534\n",
      "loss after epoch 37 is 1.642035\n",
      "loss after epoch 38 is 1.626764\n",
      "loss after epoch 39 is 1.611721\n",
      "loss after epoch 40 is 1.596909\n",
      "loss after epoch 41 is 1.582328\n",
      "loss after epoch 42 is 1.567980\n",
      "loss after epoch 43 is 1.553864\n",
      "loss after epoch 44 is 1.539983\n",
      "loss after epoch 45 is 1.526337\n",
      "loss after epoch 46 is 1.512925\n",
      "loss after epoch 47 is 1.499749\n",
      "loss after epoch 48 is 1.486808\n",
      "loss after epoch 49 is 1.474103\n"
     ]
    }
   ],
   "source": [
    "Wx,Wh,Wy,losses = trainRNN(df_small,Wx,Wh,Wy,h0,0.005,50)"
   ]
  },
  {
   "cell_type": "code",
   "execution_count": 68,
   "metadata": {},
   "outputs": [],
   "source": [
    "r = df_small['review'].iloc[0]\n",
    "y = df_small['rating'].iloc[0]"
   ]
  },
  {
   "cell_type": "code",
   "execution_count": 69,
   "metadata": {},
   "outputs": [],
   "source": [
    "X = vectorize(r)"
   ]
  },
  {
   "cell_type": "code",
   "execution_count": 70,
   "metadata": {},
   "outputs": [],
   "source": [
    "y_hat = fullForwardRNN(X,Wx,Wh,Wy,h0)"
   ]
  },
  {
   "cell_type": "code",
   "execution_count": 71,
   "metadata": {},
   "outputs": [
    {
     "data": {
      "text/plain": [
       "tensor([[0.8438]], dtype=torch.float64, grad_fn=<SigmoidBackward>)"
      ]
     },
     "execution_count": 71,
     "metadata": {},
     "output_type": "execute_result"
    }
   ],
   "source": [
    "y_hat"
   ]
  },
  {
   "cell_type": "code",
   "execution_count": 72,
   "metadata": {},
   "outputs": [
    {
     "data": {
      "text/plain": [
       "'positive'"
      ]
     },
     "execution_count": 72,
     "metadata": {},
     "output_type": "execute_result"
    }
   ],
   "source": [
    "y"
   ]
  },
  {
   "cell_type": "code",
   "execution_count": null,
   "metadata": {},
   "outputs": [],
   "source": []
  }
 ],
 "metadata": {
  "kernelspec": {
   "display_name": "Python 3",
   "language": "python",
   "name": "python3"
  },
  "language_info": {
   "codemirror_mode": {
    "name": "ipython",
    "version": 3
   },
   "file_extension": ".py",
   "mimetype": "text/x-python",
   "name": "python",
   "nbconvert_exporter": "python",
   "pygments_lexer": "ipython3",
   "version": "3.8.5"
  }
 },
 "nbformat": 4,
 "nbformat_minor": 4
}
