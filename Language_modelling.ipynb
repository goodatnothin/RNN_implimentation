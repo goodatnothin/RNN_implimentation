{
  "nbformat": 4,
  "nbformat_minor": 0,
  "metadata": {
    "colab": {
      "name": "Language_modelling.ipynb",
      "provenance": [],
      "collapsed_sections": []
    },
    "kernelspec": {
      "name": "python3",
      "display_name": "Python 3"
    },
    "language_info": {
      "name": "python"
    }
  },
  "cells": [
    {
      "cell_type": "code",
      "metadata": {
        "id": "2KVQMsHPGP5j"
      },
      "source": [
        "import torch\n",
        "import numpy as np\n",
        "import torch.nn.functional as F\n",
        "import sys"
      ],
      "execution_count": 3,
      "outputs": []
    },
    {
      "cell_type": "code",
      "metadata": {
        "id": "RGpeA3lVGSY4"
      },
      "source": [
        "inputString = [2,45,30,55,10]\n",
        "outputString = [45,30,55,10,1]"
      ],
      "execution_count": 4,
      "outputs": []
    },
    {
      "cell_type": "code",
      "metadata": {
        "id": "1vNLP6ynHLtY"
      },
      "source": [
        "numFeatures= 100\n",
        "vocabSize=80"
      ],
      "execution_count": 5,
      "outputs": []
    },
    {
      "cell_type": "code",
      "metadata": {
        "id": "unVUbjB0HRnZ"
      },
      "source": [
        "embeddings = []\n",
        "for i in range(len(inputString)):\n",
        "  x=np.random.randn(numFeatures,1)\n",
        "  embeddings.append(x)"
      ],
      "execution_count": 6,
      "outputs": []
    },
    {
      "cell_type": "code",
      "metadata": {
        "colab": {
          "base_uri": "https://localhost:8080/"
        },
        "id": "YlX_MzvYJIkO",
        "outputId": "8ba7b413-1bd9-40bd-d4dc-96aa11efe7d7"
      },
      "source": [
        "embeddings[0]"
      ],
      "execution_count": 7,
      "outputs": [
        {
          "output_type": "execute_result",
          "data": {
            "text/plain": [
              "array([[ 0.20772516],\n",
              "       [-0.81063148],\n",
              "       [ 1.50362721],\n",
              "       [-0.57405679],\n",
              "       [-1.96460283],\n",
              "       [-1.99446029],\n",
              "       [ 0.13580091],\n",
              "       [ 0.64470894],\n",
              "       [-1.74638023],\n",
              "       [-0.46962407],\n",
              "       [ 0.19451241],\n",
              "       [ 0.02340528],\n",
              "       [ 0.86344434],\n",
              "       [-1.56646334],\n",
              "       [ 0.88270315],\n",
              "       [-1.10215462],\n",
              "       [ 0.80593327],\n",
              "       [-0.36996518],\n",
              "       [-0.66560058],\n",
              "       [-0.88165356],\n",
              "       [-0.13666683],\n",
              "       [ 0.82212044],\n",
              "       [ 0.22932528],\n",
              "       [ 0.09085516],\n",
              "       [-1.00262998],\n",
              "       [-0.45574193],\n",
              "       [ 0.62028393],\n",
              "       [-0.53315786],\n",
              "       [ 0.01270585],\n",
              "       [ 0.03115569],\n",
              "       [-0.08032797],\n",
              "       [-0.55654269],\n",
              "       [ 1.20972335],\n",
              "       [-1.75759275],\n",
              "       [ 1.99320867],\n",
              "       [-0.88539996],\n",
              "       [ 0.16901367],\n",
              "       [ 1.12533927],\n",
              "       [-1.64170586],\n",
              "       [ 1.97624444],\n",
              "       [ 0.08666987],\n",
              "       [ 0.35096204],\n",
              "       [ 1.18536575],\n",
              "       [ 1.86179144],\n",
              "       [ 1.30178689],\n",
              "       [ 0.1138127 ],\n",
              "       [-0.0944821 ],\n",
              "       [-1.44999312],\n",
              "       [-0.37085647],\n",
              "       [ 0.41039033],\n",
              "       [ 0.93069641],\n",
              "       [-0.78561148],\n",
              "       [ 0.80444017],\n",
              "       [-0.63838471],\n",
              "       [-0.52539148],\n",
              "       [-0.42404391],\n",
              "       [-0.09686584],\n",
              "       [ 1.51642382],\n",
              "       [ 0.38544301],\n",
              "       [-0.21350364],\n",
              "       [ 0.83371264],\n",
              "       [-0.17091687],\n",
              "       [ 1.05961496],\n",
              "       [ 0.3445092 ],\n",
              "       [ 0.27094729],\n",
              "       [-0.69556192],\n",
              "       [-0.24558244],\n",
              "       [-1.00453301],\n",
              "       [-0.28553409],\n",
              "       [ 0.50650156],\n",
              "       [-0.02621251],\n",
              "       [ 0.49673882],\n",
              "       [-0.00609636],\n",
              "       [ 0.27035188],\n",
              "       [ 1.00857266],\n",
              "       [-1.14697576],\n",
              "       [-0.02372951],\n",
              "       [ 2.53509766],\n",
              "       [ 1.24205255],\n",
              "       [-0.33825371],\n",
              "       [ 0.70519436],\n",
              "       [ 0.11045416],\n",
              "       [ 0.20031342],\n",
              "       [-0.06767514],\n",
              "       [ 0.54847135],\n",
              "       [-2.95187915],\n",
              "       [ 0.78394429],\n",
              "       [ 0.99630562],\n",
              "       [-0.45850611],\n",
              "       [-0.47948684],\n",
              "       [-0.42726505],\n",
              "       [ 0.46044323],\n",
              "       [-0.7594714 ],\n",
              "       [-1.96191114],\n",
              "       [-0.68648602],\n",
              "       [ 0.37579636],\n",
              "       [-1.17710065],\n",
              "       [ 0.11347913],\n",
              "       [-0.76158231],\n",
              "       [-0.94541806]])"
            ]
          },
          "metadata": {
            "tags": []
          },
          "execution_count": 7
        }
      ]
    },
    {
      "cell_type": "code",
      "metadata": {
        "colab": {
          "base_uri": "https://localhost:8080/"
        },
        "id": "D1b-TzLyJM-G",
        "outputId": "d9d91fc1-9d9f-4ce6-a226-b60ac09eff6f"
      },
      "source": [
        "len(embeddings)"
      ],
      "execution_count": 8,
      "outputs": [
        {
          "output_type": "execute_result",
          "data": {
            "text/plain": [
              "5"
            ]
          },
          "metadata": {
            "tags": []
          },
          "execution_count": 8
        }
      ]
    },
    {
      "cell_type": "code",
      "metadata": {
        "id": "cpxVFgRzJY2A"
      },
      "source": [
        "def getOneHot(idx):\n",
        "  one_hot=np.zeros((vocabSize,1))\n",
        "  one_hot[idx]=1\n",
        "  return one_hot\n"
      ],
      "execution_count": 9,
      "outputs": []
    },
    {
      "cell_type": "code",
      "metadata": {
        "colab": {
          "base_uri": "https://localhost:8080/"
        },
        "id": "qgAP6g8QKGDh",
        "outputId": "8078d50f-a9cb-464d-afcd-7b696cf7ea7a"
      },
      "source": [
        "print(getOneHot(2))"
      ],
      "execution_count": 10,
      "outputs": [
        {
          "output_type": "stream",
          "text": [
            "[[0.]\n",
            " [0.]\n",
            " [1.]\n",
            " [0.]\n",
            " [0.]\n",
            " [0.]\n",
            " [0.]\n",
            " [0.]\n",
            " [0.]\n",
            " [0.]\n",
            " [0.]\n",
            " [0.]\n",
            " [0.]\n",
            " [0.]\n",
            " [0.]\n",
            " [0.]\n",
            " [0.]\n",
            " [0.]\n",
            " [0.]\n",
            " [0.]\n",
            " [0.]\n",
            " [0.]\n",
            " [0.]\n",
            " [0.]\n",
            " [0.]\n",
            " [0.]\n",
            " [0.]\n",
            " [0.]\n",
            " [0.]\n",
            " [0.]\n",
            " [0.]\n",
            " [0.]\n",
            " [0.]\n",
            " [0.]\n",
            " [0.]\n",
            " [0.]\n",
            " [0.]\n",
            " [0.]\n",
            " [0.]\n",
            " [0.]\n",
            " [0.]\n",
            " [0.]\n",
            " [0.]\n",
            " [0.]\n",
            " [0.]\n",
            " [0.]\n",
            " [0.]\n",
            " [0.]\n",
            " [0.]\n",
            " [0.]\n",
            " [0.]\n",
            " [0.]\n",
            " [0.]\n",
            " [0.]\n",
            " [0.]\n",
            " [0.]\n",
            " [0.]\n",
            " [0.]\n",
            " [0.]\n",
            " [0.]\n",
            " [0.]\n",
            " [0.]\n",
            " [0.]\n",
            " [0.]\n",
            " [0.]\n",
            " [0.]\n",
            " [0.]\n",
            " [0.]\n",
            " [0.]\n",
            " [0.]\n",
            " [0.]\n",
            " [0.]\n",
            " [0.]\n",
            " [0.]\n",
            " [0.]\n",
            " [0.]\n",
            " [0.]\n",
            " [0.]\n",
            " [0.]\n",
            " [0.]]\n"
          ],
          "name": "stdout"
        }
      ]
    },
    {
      "cell_type": "code",
      "metadata": {
        "id": "_2VblywQKN6R"
      },
      "source": [
        "numUnits=50\n",
        "h0=torch.tensor(np.zeros((numUnits,1)))\n",
        "Wh=torch.tensor(np.random.uniform(0,1,(numUnits,numUnits)),requires_grad=True)\n",
        "Wx=torch.tensor(np.random.uniform(0,1,(numUnits,numFeatures)),requires_grad=True)\n",
        "Wy=torch.tensor(np.random.uniform(0,1,(vocabSize,numUnits)),requires_grad=True)"
      ],
      "execution_count": 11,
      "outputs": []
    },
    {
      "cell_type": "code",
      "metadata": {
        "colab": {
          "base_uri": "https://localhost:8080/"
        },
        "id": "_8_u4bAdNaki",
        "outputId": "5187f95b-7b38-4ac0-a15d-81b9413fbd16"
      },
      "source": [
        "print(Wh.shape,Wx.shape,Wy.shape)"
      ],
      "execution_count": 12,
      "outputs": [
        {
          "output_type": "stream",
          "text": [
            "torch.Size([50, 50]) torch.Size([50, 100]) torch.Size([80, 50])\n"
          ],
          "name": "stdout"
        }
      ]
    },
    {
      "cell_type": "code",
      "metadata": {
        "id": "ftvm6j5qX9xH"
      },
      "source": [
        "def stepForward(xt,Wx,Wy,Wh,prevMem):\n",
        "  x_frd = torch.matmul(Wx,torch.from_numpy(xt))\n",
        "  h_frd = torch.matmul(Wh,prevMem)\n",
        "  ht = torch.tanh(x_frd+h_frd)\n",
        "  yt_hat = F.softmax(torch.matmul(Wy,ht),dim=0)\n",
        "  return ht,yt_hat"
      ],
      "execution_count": 13,
      "outputs": []
    },
    {
      "cell_type": "code",
      "metadata": {
        "id": "yck3kT3baalw"
      },
      "source": [
        "ht,yt_hat = stepForward(embeddings[0],Wx,Wy,Wh,h0)"
      ],
      "execution_count": 14,
      "outputs": []
    },
    {
      "cell_type": "code",
      "metadata": {
        "colab": {
          "base_uri": "https://localhost:8080/"
        },
        "id": "xUsXa7seati-",
        "outputId": "1ea70875-70db-4bc5-cc90-80136b4f5193"
      },
      "source": [
        "ht.shape"
      ],
      "execution_count": 15,
      "outputs": [
        {
          "output_type": "execute_result",
          "data": {
            "text/plain": [
              "torch.Size([50, 1])"
            ]
          },
          "metadata": {
            "tags": []
          },
          "execution_count": 15
        }
      ]
    },
    {
      "cell_type": "code",
      "metadata": {
        "id": "eb6xHG-Cb7qO"
      },
      "source": [
        "def fullForwardRNN(X,Wx,Wh,Wy,prevMem):\n",
        "  y_hat = []\n",
        "  for t in range(len(X)):\n",
        "    ht,yt_hat = stepForward(X[t],Wx,Wy,Wh,prevMem)\n",
        "    prevMem=ht\n",
        "    y_hat.append(yt_hat)\n",
        "  return y_hat\n"
      ],
      "execution_count": 16,
      "outputs": []
    },
    {
      "cell_type": "code",
      "metadata": {
        "id": "O8vFNKiZc58Y"
      },
      "source": [
        "y_hat = fullForwardRNN(embeddings,Wx,Wh,Wy,h0)"
      ],
      "execution_count": 17,
      "outputs": []
    },
    {
      "cell_type": "code",
      "metadata": {
        "colab": {
          "base_uri": "https://localhost:8080/"
        },
        "id": "qXY-u1zcdE7Q",
        "outputId": "a5e67192-02a0-4efd-916b-1a823d81c243"
      },
      "source": [
        "len(y_hat)"
      ],
      "execution_count": 18,
      "outputs": [
        {
          "output_type": "execute_result",
          "data": {
            "text/plain": [
              "5"
            ]
          },
          "metadata": {
            "tags": []
          },
          "execution_count": 18
        }
      ]
    },
    {
      "cell_type": "code",
      "metadata": {
        "id": "Ps4CRwladRdo"
      },
      "source": [
        "def computeLoss(y,y_hat):\n",
        "  loss=0\n",
        "  for yi,yi_hat in zip(y,y_hat):\n",
        "    Li=-torch.log2(yi_hat[yi==1])\n",
        "    loss += Li\n",
        "  return loss/len(y)"
      ],
      "execution_count": 19,
      "outputs": []
    },
    {
      "cell_type": "code",
      "metadata": {
        "id": "1RU5akCKeNvZ"
      },
      "source": [
        "y = []\n",
        "for idx in outputString:\n",
        "  y.append(getOneHot(idx))"
      ],
      "execution_count": 20,
      "outputs": []
    },
    {
      "cell_type": "code",
      "metadata": {
        "colab": {
          "base_uri": "https://localhost:8080/"
        },
        "id": "2cEEXdchef2T",
        "outputId": "83c0cf15-4e28-447c-c0a5-50b424b46ca1"
      },
      "source": [
        "print(computeLoss(y,y_hat))"
      ],
      "execution_count": 21,
      "outputs": [
        {
          "output_type": "stream",
          "text": [
            "tensor([8.9742], dtype=torch.float64, grad_fn=<DivBackward0>)\n"
          ],
          "name": "stdout"
        }
      ]
    },
    {
      "cell_type": "code",
      "metadata": {
        "id": "41YH6nyJ2VKv"
      },
      "source": [
        "def updateParams(Wx,Wh,Wy,dWx,dWh,dWy,lr):\n",
        "  with torch.no_grad():\n",
        "    Wx-= lr*dWx\n",
        "    Wh-= lr*dWh\n",
        "    Wy-= lr*dWy\n",
        "  return Wx,Wh,Wy\n"
      ],
      "execution_count": 22,
      "outputs": []
    },
    {
      "cell_type": "code",
      "metadata": {
        "id": "fGYJPFBzeopY"
      },
      "source": [
        "def trainRNN(X,y,Wx,Wh,Wy,prevMem,lr,nepoch):\n",
        "  losses = []\n",
        "  for epoch in range(nepoch):\n",
        "    y_hat = fullForwardRNN(X,Wx,Wh,Wy,prevMem)\n",
        "    loss = computeLoss(y,y_hat)\n",
        "    loss.backward()\n",
        "    losses.append(loss)\n",
        "    print(\"loss after epoch %d is %f\" %(epoch,loss))\n",
        "    sys.stdout.flush()\n",
        "    dWx=Wx.grad.data\n",
        "    dWh=Wh.grad.data\n",
        "    dWy=Wy.grad.data\n",
        "    Wx,Wh,Wy=updateParams(Wx,Wh,Wy,dWx,dWh,dWy,lr)\n",
        "    Wx.grad.data.zero_()\n",
        "    Wh.grad.data.zero_()\n",
        "    Wy.grad.data.zero_()\n",
        "  return Wx,Wh,Wy,losses"
      ],
      "execution_count": 27,
      "outputs": []
    },
    {
      "cell_type": "code",
      "metadata": {
        "colab": {
          "base_uri": "https://localhost:8080/"
        },
        "id": "nvPWiGCj22aI",
        "outputId": "cd99ba25-4468-4ce6-f1da-4ff357cec990"
      },
      "source": [
        "Wx,Wh,Wy,losses=trainRNN(embeddings,y,Wx,Wh,Wy,h0,0.001,100)"
      ],
      "execution_count": 28,
      "outputs": [
        {
          "output_type": "stream",
          "text": [
            "loss after epoch 0 is 8.974202\n",
            "loss after epoch 1 is 8.899103\n",
            "loss after epoch 2 is 8.824780\n",
            "loss after epoch 3 is 8.751247\n",
            "loss after epoch 4 is 8.678520\n",
            "loss after epoch 5 is 8.606611\n",
            "loss after epoch 6 is 8.535533\n",
            "loss after epoch 7 is 8.465298\n",
            "loss after epoch 8 is 8.395916\n",
            "loss after epoch 9 is 8.327397\n",
            "loss after epoch 10 is 8.259750\n",
            "loss after epoch 11 is 8.192983\n",
            "loss after epoch 12 is 8.127102\n",
            "loss after epoch 13 is 8.062113\n",
            "loss after epoch 14 is 7.998021\n",
            "loss after epoch 15 is 7.934829\n",
            "loss after epoch 16 is 7.872537\n",
            "loss after epoch 17 is 7.811148\n",
            "loss after epoch 18 is 7.750661\n",
            "loss after epoch 19 is 7.691074\n",
            "loss after epoch 20 is 7.632384\n",
            "loss after epoch 21 is 7.574588\n",
            "loss after epoch 22 is 7.517680\n",
            "loss after epoch 23 is 7.461654\n",
            "loss after epoch 24 is 7.406504\n",
            "loss after epoch 25 is 7.352220\n",
            "loss after epoch 26 is 7.298795\n",
            "loss after epoch 27 is 7.246217\n",
            "loss after epoch 28 is 7.194478\n",
            "loss after epoch 29 is 7.143564\n",
            "loss after epoch 30 is 7.093465\n",
            "loss after epoch 31 is 7.044167\n",
            "loss after epoch 32 is 6.995658\n",
            "loss after epoch 33 is 6.947924\n",
            "loss after epoch 34 is 6.900950\n",
            "loss after epoch 35 is 6.854724\n",
            "loss after epoch 36 is 6.809229\n",
            "loss after epoch 37 is 6.764451\n",
            "loss after epoch 38 is 6.720376\n",
            "loss after epoch 39 is 6.676988\n",
            "loss after epoch 40 is 6.634273\n",
            "loss after epoch 41 is 6.592214\n",
            "loss after epoch 42 is 6.550797\n",
            "loss after epoch 43 is 6.510008\n",
            "loss after epoch 44 is 6.469830\n",
            "loss after epoch 45 is 6.430250\n",
            "loss after epoch 46 is 6.391252\n",
            "loss after epoch 47 is 6.352823\n",
            "loss after epoch 48 is 6.314948\n",
            "loss after epoch 49 is 6.277614\n",
            "loss after epoch 50 is 6.240806\n",
            "loss after epoch 51 is 6.204511\n",
            "loss after epoch 52 is 6.168716\n",
            "loss after epoch 53 is 6.133409\n",
            "loss after epoch 54 is 6.098577\n",
            "loss after epoch 55 is 6.064207\n",
            "loss after epoch 56 is 6.030289\n",
            "loss after epoch 57 is 5.996809\n",
            "loss after epoch 58 is 5.963758\n",
            "loss after epoch 59 is 5.931123\n",
            "loss after epoch 60 is 5.898896\n",
            "loss after epoch 61 is 5.867064\n",
            "loss after epoch 62 is 5.835619\n",
            "loss after epoch 63 is 5.804551\n",
            "loss after epoch 64 is 5.773850\n",
            "loss after epoch 65 is 5.743507\n",
            "loss after epoch 66 is 5.713513\n",
            "loss after epoch 67 is 5.683861\n",
            "loss after epoch 68 is 5.654541\n",
            "loss after epoch 69 is 5.625547\n",
            "loss after epoch 70 is 5.596869\n",
            "loss after epoch 71 is 5.568501\n",
            "loss after epoch 72 is 5.540436\n",
            "loss after epoch 73 is 5.512667\n",
            "loss after epoch 74 is 5.485187\n",
            "loss after epoch 75 is 5.457989\n",
            "loss after epoch 76 is 5.431068\n",
            "loss after epoch 77 is 5.404418\n",
            "loss after epoch 78 is 5.378032\n",
            "loss after epoch 79 is 5.351905\n",
            "loss after epoch 80 is 5.326031\n",
            "loss after epoch 81 is 5.300406\n",
            "loss after epoch 82 is 5.275024\n",
            "loss after epoch 83 is 5.249881\n",
            "loss after epoch 84 is 5.224971\n",
            "loss after epoch 85 is 5.200291\n",
            "loss after epoch 86 is 5.175835\n",
            "loss after epoch 87 is 5.151600\n",
            "loss after epoch 88 is 5.127582\n",
            "loss after epoch 89 is 5.103776\n",
            "loss after epoch 90 is 5.080178\n",
            "loss after epoch 91 is 5.056786\n",
            "loss after epoch 92 is 5.033595\n",
            "loss after epoch 93 is 5.010601\n",
            "loss after epoch 94 is 4.987803\n",
            "loss after epoch 95 is 4.965195\n",
            "loss after epoch 96 is 4.942776\n",
            "loss after epoch 97 is 4.920542\n",
            "loss after epoch 98 is 4.898490\n",
            "loss after epoch 99 is 4.876617\n"
          ],
          "name": "stdout"
        }
      ]
    },
    {
      "cell_type": "code",
      "metadata": {
        "id": "UXNg1fpU3arp"
      },
      "source": [
        ""
      ],
      "execution_count": null,
      "outputs": []
    }
  ]
}